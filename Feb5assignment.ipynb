{
 "cells": [
  {
   "cell_type": "markdown",
   "id": "c40cbc4c-27e3-4576-b53a-ca953f1d19f4",
   "metadata": {},
   "source": [
    "Q1. Explain Class and Object with respect to Object-Oriented Programming. Give a suitable example."
   ]
  },
  {
   "cell_type": "markdown",
   "id": "5bf92ef6-e2b3-44ed-aa09-2e957904d25b",
   "metadata": {},
   "source": [
    "* A class is a blueprint or a template that defines the characteristics and behavior of an object. It represents a general concept or category and serves as a blueprint for creating individual objects. A class encapsulates data (attributes) and methods (functions) that operate on that data.\n",
    "\n",
    "* An object, on the other hand, is an instance of a class. It is a specific entity that is created based on the class definition. Objects have their own unique state and behavior, but they share the same structure and behavior defined by the class. Each object can access the class's attributes and methods, and it can also have its own specific values for the attributes.\n",
    "\n",
    "* An example of class and objects are"
   ]
  },
  {
   "cell_type": "code",
   "execution_count": 1,
   "id": "15117f5c-8539-4eb4-9f34-022ff205b697",
   "metadata": {},
   "outputs": [
    {
     "name": "stdout",
     "output_type": "stream",
     "text": [
      "Alto\n",
      "Activa\n"
     ]
    }
   ],
   "source": [
    "#creation of class\n",
    "class vehicle:\n",
    "    def __init__(self,car,bike):\n",
    "        self.car = car\n",
    "        self.bike = bike\n",
    "    def show(self):\n",
    "        print(self.car)\n",
    "        print(self.bike)\n",
    "    \n",
    "#creation of object\n",
    "veh = vehicle(\"Alto\",\"Activa\")\n",
    "veh.show()"
   ]
  },
  {
   "cell_type": "markdown",
   "id": "13d87043-2d9a-4b44-ab4e-bb3f3754c8ff",
   "metadata": {},
   "source": [
    "Q2. Name the four pillars of OOPs."
   ]
  },
  {
   "cell_type": "markdown",
   "id": "14651573-d7db-4374-9922-d6faf7cfeb74",
   "metadata": {},
   "source": [
    "The four pillars of OOPs are:\n",
    "1. Inheritance\n",
    "2. Abstraction\n",
    "3. Encapsulation\n",
    "4. Polymorphism "
   ]
  },
  {
   "cell_type": "markdown",
   "id": "09d2669d-eb3e-40ad-9c3c-12f7ec0f5c65",
   "metadata": {},
   "source": [
    "Q3. Explain why the __init__() function is used. Give a suitable example."
   ]
  },
  {
   "cell_type": "markdown",
   "id": "8321b69e-0a64-41b0-871b-4e0f9f248c28",
   "metadata": {},
   "source": [
    "* The __init__() function, also known as the constructor, is a special method in Python classes. It is automatically called when an object is created from a class. The primary purpose of the __init__() function is to initialize the attributes (properties) of the object with initial values.\n",
    "* The example is given below"
   ]
  },
  {
   "cell_type": "code",
   "execution_count": 2,
   "id": "9465cf06-83c2-472d-861f-e8da0ef86b24",
   "metadata": {},
   "outputs": [
    {
     "name": "stdout",
     "output_type": "stream",
     "text": [
      "My name is John and I am 25 years old.\n"
     ]
    }
   ],
   "source": [
    "class Person:\n",
    "    def __init__(self, name, age):\n",
    "        self.name = name\n",
    "        self.age = age\n",
    "\n",
    "    def introduce(self):\n",
    "        print(f\"My name is {self.name} and I am {self.age} years old.\")\n",
    "\n",
    "# Creating objects of the Person class\n",
    "person1 = Person(\"John\", 25)\n",
    "\n",
    "# Calling the introduce() method\n",
    "person1.introduce()  \n"
   ]
  },
  {
   "cell_type": "markdown",
   "id": "20994c65-1f06-4f71-ae66-a0da8a23c286",
   "metadata": {},
   "source": [
    "Q4. Why self is used in OOPs?"
   ]
  },
  {
   "cell_type": "markdown",
   "id": "c0b06e1c-f12d-4cd3-a834-b13c76f2e795",
   "metadata": {},
   "source": [
    "* In object-oriented programming (OOP), self is used as a convention to refer to the instance (object) of a class within the class methods. It acts as a reference to the current object on which a method is being invoked.\n",
    "* Reasons why self is used in OOP:\n",
    "    1. Accessing instance attributes\n",
    "    2. Creating and initializing objects\n",
    "    3. Providing a reference to the object"
   ]
  },
  {
   "cell_type": "markdown",
   "id": "5fb70b50-af9b-4630-ac5f-cfe7969d395b",
   "metadata": {},
   "source": [
    "Q5. What is inheritance? Give an example for each type of inheritance."
   ]
  },
  {
   "cell_type": "markdown",
   "id": "2ee59f38-b844-499a-b948-c3587c5315a1",
   "metadata": {},
   "source": [
    "* Deriving of new class from existed class is called as Inheritance.\n",
    "* New class is known as derived class and the existed class is known as the base class.\n",
    "* Derived class acquires all the properties from the base class or the existed class.\n",
    "* Acquiring means that all base class variables and base class methods are directly accessible by derived class object.\n",
    "* Syntax\n",
    "\n",
    "\n",
    "```\n",
    "class base_class:\n",
    "  #statements\n",
    "\n",
    "class inherited_class(base_class):\n",
    "  #statements\n",
    "\n",
    "```\n",
    "There are 5 types of inheritances they are:\n"
   ]
  },
  {
   "cell_type": "markdown",
   "id": "6e9d329f-6717-42d1-9770-8f7529a9a902",
   "metadata": {},
   "source": [
    "1. Single Inheritance: In single inheritance, a child class inherits from a single parent class. It forms a one-to-one hierarchy relationship."
   ]
  },
  {
   "cell_type": "code",
   "execution_count": 3,
   "id": "c4bb6781-8d80-40e5-bf7f-1d98a9c7ee69",
   "metadata": {},
   "outputs": [
    {
     "name": "stdout",
     "output_type": "stream",
     "text": [
      "Animal is eating.\n",
      "Dog is barking.\n"
     ]
    }
   ],
   "source": [
    "class Animal:\n",
    "    def eat(self):\n",
    "        print(\"Animal is eating.\")\n",
    "\n",
    "class Dog(Animal):\n",
    "    def bark(self):\n",
    "        print(\"Dog is barking.\")\n",
    "\n",
    "dog = Dog()\n",
    "dog.eat()  \n",
    "dog.bark()  \n"
   ]
  },
  {
   "cell_type": "markdown",
   "id": "04b2c148-4a56-456f-b29f-ca9db6917230",
   "metadata": {},
   "source": [
    "2. Multilevel Inheritance: Multilevel inheritance involves a chain of inheritance where a child class inherits from a parent class, and another child class inherits from that child class. It forms a hierarchical structure."
   ]
  },
  {
   "cell_type": "code",
   "execution_count": 5,
   "id": "95b5e167-07fe-48b0-a790-98a2c05c6f9b",
   "metadata": {},
   "outputs": [
    {
     "name": "stdout",
     "output_type": "stream",
     "text": [
      "Animal is eating.\n",
      "Dog is barking.\n",
      "Bulldog is guarding.\n"
     ]
    }
   ],
   "source": [
    "class Animal:\n",
    "    def eat(self):\n",
    "        print(\"Animal is eating.\")\n",
    "\n",
    "class Dog(Animal):\n",
    "    def bark(self):\n",
    "        print(\"Dog is barking.\")\n",
    "\n",
    "class Bulldog(Dog):\n",
    "    def guard(self):\n",
    "        print(\"Bulldog is guarding.\")\n",
    "\n",
    "bulldog = Bulldog()\n",
    "bulldog.eat()  \n",
    "bulldog.bark() \n",
    "bulldog.guard()  \n"
   ]
  },
  {
   "cell_type": "markdown",
   "id": "21eee296-4ca4-47aa-b4e3-cba8432c797b",
   "metadata": {},
   "source": [
    "3. Multiple Inheritance: Multiple inheritance allows a child class to inherit from multiple parent classes. It forms a hierarchy where a child class has more than one parent class."
   ]
  },
  {
   "cell_type": "code",
   "execution_count": 7,
   "id": "7bc171d7-70b3-436e-8459-cddd542bbdf0",
   "metadata": {},
   "outputs": [
    {
     "name": "stdout",
     "output_type": "stream",
     "text": [
      "Car is driving.\n",
      "Car is charging.\n",
      "Hybrid car is driving with both fuel and electric power.\n"
     ]
    }
   ],
   "source": [
    "class Car:\n",
    "    def drive(self):\n",
    "        print(\"Car is driving.\")\n",
    "\n",
    "class Electric:\n",
    "    def charge(self):\n",
    "        print(\"Car is charging.\")\n",
    "\n",
    "class HybridCar(Car, Electric):\n",
    "    def hybrid_drive(self):\n",
    "        print(\"Hybrid car is driving with both fuel and electric power.\")\n",
    "\n",
    "hybrid_car = HybridCar()\n",
    "hybrid_car.drive()  \n",
    "hybrid_car.charge()  \n",
    "hybrid_car.hybrid_drive()\n"
   ]
  },
  {
   "cell_type": "markdown",
   "id": "8ab5c2d0-8254-4ecd-abf1-bca686a19ca8",
   "metadata": {},
   "source": [
    "4. Hierarchical Inheritance: Deriving more than one derived classes from a single base class.\n"
   ]
  },
  {
   "cell_type": "code",
   "execution_count": 8,
   "id": "afd8b865-e69b-4058-b749-d7d5735ac5fa",
   "metadata": {},
   "outputs": [
    {
     "name": "stdout",
     "output_type": "stream",
     "text": [
      "Animal is eating.\n",
      "Dog is barking.\n",
      "Animal is eating.\n",
      "Cat is meowing.\n"
     ]
    }
   ],
   "source": [
    "class Animal:\n",
    "    def eat(self):\n",
    "        print(\"Animal is eating.\")\n",
    "\n",
    "class Dog(Animal):\n",
    "    def bark(self):\n",
    "        print(\"Dog is barking.\")\n",
    "\n",
    "class Cat(Animal):\n",
    "    def meow(self):\n",
    "        print(\"Cat is meowing.\")\n",
    "\n",
    "dog = Dog()\n",
    "cat = Cat()\n",
    "\n",
    "dog.eat() \n",
    "dog.bark()  \n",
    "\n",
    "cat.eat() \n",
    "cat.meow()  \n"
   ]
  },
  {
   "cell_type": "markdown",
   "id": "c6f12c79-f671-4fae-b306-1df10f8840a3",
   "metadata": {},
   "source": [
    "5. Hybrid Inheritance: Combination of different types of inheritance is known as hybrid inheritance"
   ]
  },
  {
   "cell_type": "code",
   "execution_count": 9,
   "id": "6ca9b966-97c8-4ee7-b83c-eef4592480fb",
   "metadata": {},
   "outputs": [
    {
     "name": "stdout",
     "output_type": "stream",
     "text": [
      "Vehicle is driving.\n",
      "Car is driving using fuel.\n",
      "Car is charging.\n",
      "Hybrid car is driving with both fuel and electric power.\n"
     ]
    }
   ],
   "source": [
    "class Vehicle:\n",
    "    def drive(self):\n",
    "        print(\"Vehicle is driving.\")\n",
    "\n",
    "class Car(Vehicle):\n",
    "    def fuel_drive(self):\n",
    "        print(\"Car is driving using fuel.\")\n",
    "\n",
    "class Electric:\n",
    "    def charge(self):\n",
    "        print(\"Car is charging.\")\n",
    "\n",
    "class HybridCar(Car, Electric):\n",
    "    def hybrid_drive(self):\n",
    "        print(\"Hybrid car is driving with both fuel and electric power.\")\n",
    "\n",
    "# Creating an instance of the HybridCar class\n",
    "hybrid_car = HybridCar()\n",
    "hybrid_car.drive()  \n",
    "hybrid_car.fuel_drive()\n",
    "hybrid_car.charge()  \n",
    "hybrid_car.hybrid_drive() \n"
   ]
  },
  {
   "cell_type": "code",
   "execution_count": null,
   "id": "8448b3c8-8e29-4a6c-a339-589a7cf13123",
   "metadata": {},
   "outputs": [],
   "source": []
  }
 ],
 "metadata": {
  "kernelspec": {
   "display_name": "Python 3 (ipykernel)",
   "language": "python",
   "name": "python3"
  },
  "language_info": {
   "codemirror_mode": {
    "name": "ipython",
    "version": 3
   },
   "file_extension": ".py",
   "mimetype": "text/x-python",
   "name": "python",
   "nbconvert_exporter": "python",
   "pygments_lexer": "ipython3",
   "version": "3.10.8"
  }
 },
 "nbformat": 4,
 "nbformat_minor": 5
}
